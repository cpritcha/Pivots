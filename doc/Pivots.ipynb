{
 "metadata": {
  "language": "Julia",
  "name": ""
 },
 "nbformat": 3,
 "nbformat_minor": 0,
 "worksheets": [
  {
   "cells": [
    {
     "cell_type": "markdown",
     "metadata": {},
     "source": [
      "# Introduction to `Pivot.jl`\n",
      "\n",
      "`Pivot.jl` is used to make tables of summary statistics in Julia. It currently only supports output to HTML."
     ]
    },
    {
     "cell_type": "code",
     "collapsed": false,
     "input": [
      "using RDatasets\n",
      "using Pivots\n",
      "using Tables.HTMLFormat\n",
      "const tb = Tables.HTMLFormat"
     ],
     "language": "python",
     "metadata": {},
     "outputs": [
      {
       "metadata": {},
       "output_type": "pyout",
       "prompt_number": 1,
       "text": [
        "Tables.HTMLFormat"
       ]
      }
     ],
     "prompt_number": 1
    },
    {
     "cell_type": "markdown",
     "metadata": {},
     "source": [
      "## Example 1: The `Housing` Dataset\n",
      "\n",
      "Suppose you interested in the relationship between the number of bedrooms in a house and the price. Then the `summarize` function could be used to construct a table with the number of bedrooms as a row variable and statistics as a column variable. This table could be created using `Pivot.jl` and `Tables.jl` using the code below. Information on the meaning of particular keyword arguments for the `summarize` function by typing `?summarize` into the console."
     ]
    },
    {
     "cell_type": "markdown",
     "metadata": {},
     "source": [
      "<style>\n",
      ".head {\n",
      "  background-color: #bbbbbb;\n",
      "  font-size: 16pt;\n",
      "  font-weight: bold;\n",
      "}\n",
      "\n",
      ".subhead {\n",
      "  background-color: #dddddd;\n",
      "  font-size: 12pt;\n",
      "  font-weight: bold;\n",
      "  text-align: center;\n",
      "}\n",
      "\n",
      ".datael {\n",
      "  text-align: right;\n",
      "}\n",
      "</style>"
     ]
    },
    {
     "cell_type": "code",
     "collapsed": false,
     "input": [
      "house = RDatasets.dataset(\"Ecdat\", \"Housing\")\n",
      "p = summarize(\n",
      "    house, \n",
      "    rowvars      = [:Bedrooms], \n",
      "    colvars      = Symbol[], \n",
      "    statnames    = String[\"mean(price)\", \"std(price)\", \"count\"], \n",
      "    stats        = [df->mean(df[:Price]), df->std(df[:Price]), df->length(df[:Price])],\n",
      "    varorders    = [:Bedrooms => Int32[1:6], :Driveway => [\"no\", \"yes\"]], \n",
      "    stat_in_cols = true)\n",
      "\n",
      "tbl = totable(p)\n",
      "tb.HTML(tbl)"
     ],
     "language": "python",
     "metadata": {},
     "outputs": [
      {
       "html": [
        "<table>\n",
        "\t<tr>\n",
        "\t\t<td style=\"border:0;\" class=\"empty\"></td>\n",
        "\t\t<td colspan=\"3\" style=\"text-align:center;\" class=\"head\">stats</td>\n",
        "\t</tr>\n",
        "\t<tr>\n",
        "\t\t<td style=\"text-align:center;\" class=\"head\">Bedrooms</td>\n",
        "\t\t<td style=\"text-align:center;\" class=\"subhead\">mean&#40;price&#41;</td>\n",
        "\t\t<td style=\"text-align:center;\" class=\"subhead\">std&#40;price&#41;</td>\n",
        "\t\t<td style=\"text-align:center;\" class=\"subhead\">count</td>\n",
        "\t</tr>\n",
        "\t<tr>\n",
        "\t\t<td style=\"text-align:right;\" class=\"subhead\">1</td>\n",
        "\t\t<td style=\"text-align:right;\" class=\"datael\">38750.00</td>\n",
        "\t\t<td style=\"text-align:right;\" class=\"datael\">8838.83</td>\n",
        "\t\t<td style=\"text-align:right;\" class=\"datael\">2</td>\n",
        "\t</tr>\n",
        "\t<tr>\n",
        "\t\t<td style=\"text-align:right;\" class=\"subhead\">2</td>\n",
        "\t\t<td style=\"text-align:right;\" class=\"datael\">51886.03</td>\n",
        "\t\t<td style=\"text-align:right;\" class=\"datael\">14343.20</td>\n",
        "\t\t<td style=\"text-align:right;\" class=\"datael\">136</td>\n",
        "\t</tr>\n",
        "\t<tr>\n",
        "\t\t<td style=\"text-align:right;\" class=\"subhead\">3</td>\n",
        "\t\t<td style=\"text-align:right;\" class=\"datael\">70817.25</td>\n",
        "\t\t<td style=\"text-align:right;\" class=\"datael\">24931.42</td>\n",
        "\t\t<td style=\"text-align:right;\" class=\"datael\">301</td>\n",
        "\t</tr>\n",
        "\t<tr>\n",
        "\t\t<td style=\"text-align:right;\" class=\"subhead\">4</td>\n",
        "\t\t<td style=\"text-align:right;\" class=\"datael\">81853.68</td>\n",
        "\t\t<td style=\"text-align:right;\" class=\"datael\">32967.72</td>\n",
        "\t\t<td style=\"text-align:right;\" class=\"datael\">95</td>\n",
        "\t</tr>\n",
        "\t<tr>\n",
        "\t\t<td style=\"text-align:right;\" class=\"subhead\">5</td>\n",
        "\t\t<td style=\"text-align:right;\" class=\"datael\">83140.00</td>\n",
        "\t\t<td style=\"text-align:right;\" class=\"datael\">35747.36</td>\n",
        "\t\t<td style=\"text-align:right;\" class=\"datael\">10</td>\n",
        "\t</tr>\n",
        "\t<tr>\n",
        "\t\t<td style=\"text-align:right;\" class=\"subhead\">6</td>\n",
        "\t\t<td style=\"text-align:right;\" class=\"datael\">68450.00</td>\n",
        "\t\t<td style=\"text-align:right;\" class=\"datael\">26092.24</td>\n",
        "\t\t<td style=\"text-align:right;\" class=\"datael\">2</td>\n",
        "\t</tr>\n",
        "</table>\n"
       ],
       "metadata": {},
       "output_type": "pyout",
       "prompt_number": 2,
       "text": [
        "HTML(\"<table>\\n\\t<tr>\\n\\t\\t<td style=\\\"border:0;\\\" class=\\\"empty\\\"></td>\\n\\t\\t<td colspan=\\\"3\\\" style=\\\"text-align:center;\\\" class=\\\"head\\\">stats</td>\\n\\t</tr>\\n\\t<tr>\\n\\t\\t<td style=\\\"text-align:center;\\\" class=\\\"head\\\">Bedrooms</td>\\n\\t\\t<td style=\\\"text-align:center;\\\" class=\\\"subhead\\\">mean&#40;price&#41;</td>\\n\\t\\t<td style=\\\"text-align:center;\\\" class=\\\"subhead\\\">std&#40;price&#41;</td>\\n\\t\\t<td style=\\\"text-align:center;\\\" class=\\\"subhead\\\">count</td>\\n\\t</tr>\\n\\t<tr>\\n\\t\\t<td style=\\\"text-align:right;\\\" class=\\\"subhead\\\">1</td>\\n\\t\\t<td style=\\\"text-align:right;\\\" class=\\\"datael\\\">38750.00</td>\\n\\t\\t<td style=\\\"text-align:right;\\\" class=\\\"datael\\\">8838.83</td>\\n\\t\\t<td style=\\\"text-align:right;\\\" class=\\\"datael\\\">2</td>\\n\\t</tr>\\n\\t<tr>\\n\\t\\t<td style=\\\"text-align:right;\\\" class=\\\"subhead\\\">2</td>\\n\\t\\t<td style=\\\"text-align:right;\\\" class=\\\"datael\\\">51886.03</td>\\n\\t\\t<td style=\\\"text-align:right;\\\" class=\\\"datael\\\">14343.20</td>\\n\\t\\t<td style=\\\"text-align:right;\\\" class=\\\"datael\\\">136</td>\\n\\t</tr>\\n\\t<tr>\\n\\t\\t<td style=\\\"text-align:right;\\\" class=\\\"subhead\\\">3</td>\\n\\t\\t<td style=\\\"text-align:right;\\\" class=\\\"datael\\\">70817.25</td>\\n\\t\\t<td style=\\\"text-align:right;\\\" class=\\\"datael\\\">24931.42</td>\\n\\t\\t<td style=\\\"text-align:right;\\\" class=\\\"datael\\\">301</td>\\n\\t</tr>\\n\\t<tr>\\n\\t\\t<td style=\\\"text-align:right;\\\" class=\\\"subhead\\\">4</td>\\n\\t\\t<td style=\\\"text-align:right;\\\" class=\\\"datael\\\">81853.68</td>\\n\\t\\t<td style=\\\"text-align:right;\\\" class=\\\"datael\\\">32967.72</td>\\n\\t\\t<td style=\\\"text-align:right;\\\" class=\\\"datael\\\">95</td>\\n\\t</tr>\\n\\t<tr>\\n\\t\\t<td style=\\\"text-align:right;\\\" class=\\\"subhead\\\">5</td>\\n\\t\\t<td style=\\\"text-align:right;\\\" class=\\\"datael\\\">83140.00</td>\\n\\t\\t<td style=\\\"text-align:right;\\\" class=\\\"datael\\\">35747.36</td>\\n\\t\\t<td style=\\\"text-align:right;\\\" class=\\\"datael\\\">10</td>\\n\\t</tr>\\n\\t<tr>\\n\\t\\t<td style=\\\"text-align:right;\\\" class=\\\"subhead\\\">6</td>\\n\\t\\t<td style=\\\"text-align:right;\\\" class=\\\"datael\\\">68450.00</td>\\n\\t\\t<td style=\\\"text-align:right;\\\" class=\\\"datael\\\">26092.24</td>\\n\\t\\t<td style=\\\"text-align:right;\\\" class=\\\"datael\\\">2</td>\\n\\t</tr>\\n</table>\\n\")"
       ]
      }
     ],
     "prompt_number": 2
    },
    {
     "cell_type": "markdown",
     "metadata": {},
     "source": [
      "Now suppose you are interested in adding the presence of a recreation room. Then a table could be created using the code below"
     ]
    },
    {
     "cell_type": "code",
     "collapsed": false,
     "input": [
      "house = RDatasets.dataset(\"Ecdat\", \"Housing\")\n",
      "p = summarize(\n",
      "    house, \n",
      "    rowvars      = [:Bedrooms], \n",
      "    colvars      = Symbol[:RecRoom], \n",
      "    statnames    = String[\"mean(price)\", \"std(price)\", \"count\"], \n",
      "    stats        = [df->mean(df[:Price]), df->std(df[:Price]), df->length(df[:Price])],\n",
      "    varorders    = [:Bedrooms => Int32[1:6], :RecRoom => [\"no\", \"yes\"]], \n",
      "    stat_in_cols = true)\n",
      "\n",
      "tbl = totable(p)\n",
      "tb.HTML(tbl)"
     ],
     "language": "python",
     "metadata": {},
     "outputs": [
      {
       "html": [
        "<table>\n",
        "\t<tr>\n",
        "\t\t<td rowspan=\"2\" style=\"border:0;\" class=\"empty\"></td>\n",
        "\t\t<td colspan=\"6\" style=\"text-align:center;\" class=\"head\">RecRoom / stats</td>\n",
        "\t</tr>\n",
        "\t<tr>\n",
        "\t\t<td colspan=\"3\" style=\"text-align:center;\" class=\"subhead\">no</td>\n",
        "\t\t<td colspan=\"3\" style=\"text-align:center;\" class=\"subhead\">yes</td>\n",
        "\t</tr>\n",
        "\t<tr>\n",
        "\t\t<td style=\"text-align:center;\" class=\"head\">Bedrooms</td>\n",
        "\t\t<td style=\"text-align:center;\" class=\"subhead\">mean&#40;price&#41;</td>\n",
        "\t\t<td style=\"text-align:center;\" class=\"subhead\">std&#40;price&#41;</td>\n",
        "\t\t<td style=\"text-align:center;\" class=\"subhead\">count</td>\n",
        "\t\t<td style=\"text-align:center;\" class=\"subhead\">mean&#40;price&#41;</td>\n",
        "\t\t<td style=\"text-align:center;\" class=\"subhead\">std&#40;price&#41;</td>\n",
        "\t\t<td style=\"text-align:center;\" class=\"subhead\">count</td>\n",
        "\t</tr>\n",
        "\t<tr>\n",
        "\t\t<td style=\"text-align:right;\" class=\"subhead\">1</td>\n",
        "\t\t<td style=\"text-align:right;\" class=\"datael\">38750.00</td>\n",
        "\t\t<td style=\"text-align:right;\" class=\"datael\">8838.83</td>\n",
        "\t\t<td style=\"text-align:right;\" class=\"datael\">2</td>\n",
        "\t\t<td style=\"text-align:right;\" class=\"datael\"></td>\n",
        "\t\t<td style=\"text-align:right;\" class=\"datael\"></td>\n",
        "\t\t<td style=\"text-align:right;\" class=\"datael\"></td>\n",
        "\t</tr>\n",
        "\t<tr>\n",
        "\t\t<td style=\"text-align:right;\" class=\"subhead\">2</td>\n",
        "\t\t<td style=\"text-align:right;\" class=\"datael\">50700.00</td>\n",
        "\t\t<td style=\"text-align:right;\" class=\"datael\">13727.28</td>\n",
        "\t\t<td style=\"text-align:right;\" class=\"datael\">120</td>\n",
        "\t\t<td style=\"text-align:right;\" class=\"datael\">60781.25</td>\n",
        "\t\t<td style=\"text-align:right;\" class=\"datael\">16153.94</td>\n",
        "\t\t<td style=\"text-align:right;\" class=\"datael\">16</td>\n",
        "\t</tr>\n",
        "\t<tr>\n",
        "\t\t<td style=\"text-align:right;\" class=\"subhead\">3</td>\n",
        "\t\t<td style=\"text-align:right;\" class=\"datael\">67757.79</td>\n",
        "\t\t<td style=\"text-align:right;\" class=\"datael\">24770.90</td>\n",
        "\t\t<td style=\"text-align:right;\" class=\"datael\">243</td>\n",
        "\t\t<td style=\"text-align:right;\" class=\"datael\">83635.34</td>\n",
        "\t\t<td style=\"text-align:right;\" class=\"datael\">21430.39</td>\n",
        "\t\t<td style=\"text-align:right;\" class=\"datael\">58</td>\n",
        "\t</tr>\n",
        "\t<tr>\n",
        "\t\t<td style=\"text-align:right;\" class=\"subhead\">4</td>\n",
        "\t\t<td style=\"text-align:right;\" class=\"datael\">77941.22</td>\n",
        "\t\t<td style=\"text-align:right;\" class=\"datael\">33314.07</td>\n",
        "\t\t<td style=\"text-align:right;\" class=\"datael\">74</td>\n",
        "\t\t<td style=\"text-align:right;\" class=\"datael\">95640.48</td>\n",
        "\t\t<td style=\"text-align:right;\" class=\"datael\">28305.56</td>\n",
        "\t\t<td style=\"text-align:right;\" class=\"datael\">21</td>\n",
        "\t</tr>\n",
        "\t<tr>\n",
        "\t\t<td style=\"text-align:right;\" class=\"subhead\">5</td>\n",
        "\t\t<td style=\"text-align:right;\" class=\"datael\">79487.50</td>\n",
        "\t\t<td style=\"text-align:right;\" class=\"datael\">38361.27</td>\n",
        "\t\t<td style=\"text-align:right;\" class=\"datael\">8</td>\n",
        "\t\t<td style=\"text-align:right;\" class=\"datael\">97750.00</td>\n",
        "\t\t<td style=\"text-align:right;\" class=\"datael\">25809.40</td>\n",
        "\t\t<td style=\"text-align:right;\" class=\"datael\">2</td>\n",
        "\t</tr>\n",
        "\t<tr>\n",
        "\t\t<td style=\"text-align:right;\" class=\"subhead\">6</td>\n",
        "\t\t<td style=\"text-align:right;\" class=\"datael\">68450.00</td>\n",
        "\t\t<td style=\"text-align:right;\" class=\"datael\">26092.24</td>\n",
        "\t\t<td style=\"text-align:right;\" class=\"datael\">2</td>\n",
        "\t\t<td style=\"text-align:right;\" class=\"datael\"></td>\n",
        "\t\t<td style=\"text-align:right;\" class=\"datael\"></td>\n",
        "\t\t<td style=\"text-align:right;\" class=\"datael\"></td>\n",
        "\t</tr>\n",
        "</table>\n"
       ],
       "metadata": {},
       "output_type": "pyout",
       "prompt_number": 3,
       "text": [
        "HTML(\"<table>\\n\\t<tr>\\n\\t\\t<td rowspan=\\\"2\\\" style=\\\"border:0;\\\" class=\\\"empty\\\"></td>\\n\\t\\t<td colspan=\\\"6\\\" style=\\\"text-align:center;\\\" class=\\\"head\\\">RecRoom / stats</td>\\n\\t</tr>\\n\\t<tr>\\n\\t\\t<td colspan=\\\"3\\\" style=\\\"text-align:center;\\\" class=\\\"subhead\\\">no</td>\\n\\t\\t<td colspan=\\\"3\\\" style=\\\"text-align:center;\\\" class=\\\"subhead\\\">yes</td>\\n\\t</tr>\\n\\t<tr>\\n\\t\\t<td style=\\\"text-align:center;\\\" class=\\\"head\\\">Bedrooms</td>\\n\\t\\t<td style=\\\"text-align:center;\\\" class=\\\"subhead\\\">mean&#40;price&#41;</td>\\n\\t\\t<td style=\\\"text-align:center;\\\" class=\\\"subhead\\\">std&#40;price&#41;</td>\\n\\t\\t<td style=\\\"text-align:center;\\\" class=\\\"subhead\\\">count</td>\\n\\t\\t<td style=\\\"text-align:center;\\\" class=\\\"subhead\\\">mean&#40;price&#41;</td>\\n\\t\\t<td style=\\\"text-align:center;\\\" class=\\\"subhead\\\">std&#40;price&#41;</td>\\n\\t\\t<td style=\\\"text-align:center;\\\" class=\\\"subhead\\\">count</td>\\n\\t</tr>\\n\\t<tr>\\n\\t\\t<td style=\\\"text-align:right;\\\" class=\\\"subhead\\\">1</td>\\n\\t\\t<td style=\\\"text-align:right;\\\" class=\\\"datael\\\">38750.00</td>\\n\\t\\t<td style=\\\"text-align:right;\\\" class=\\\"datael\\\">8838.83</td>\\n\\t\\t<td style=\\\"text-align:right;\\\" class=\\\"datael\\\">2</td>\\n\\t\\t<td style=\\\"text-align:right;\\\" class=\\\"datael\\\"></td>\\n\\t\\t<td style=\\\"text-align:right;\\\" class=\\\"datael\\\"></td>\\n\\t\\t<td style=\\\"text-align:right;\\\" class=\\\"datael\\\"></td>\\n\\t</tr>\\n\\t<tr>\\n\\t\\t<td style=\\\"text-align:right;\\\" class=\\\"subhead\\\">2</td>\\n\\t\\t<td style=\\\"text-align:right;\\\" class=\\\"datael\\\">50700.00</td>\\n\\t\\t<td style=\\\"text-align:right;\\\" class=\\\"datael\\\">13727.28</td>\\n\\t\\t<td style=\\\"text-align:right;\\\" class=\\\"datael\\\">120</td>\\n\\t\\t<td style=\\\"text-align:right;\\\" class=\\\"datael\\\">60781.25</td>\\n\\t\\t<td style=\\\"text-align:right;\\\" class=\\\"datael\\\">16153.94</td>\\n\\t\\t<td style=\\\"text-align:right;\\\" class=\\\"datael\\\">16</td>\\n\\t</tr>\\n\\t<tr>\\n\\t\\t<td style=\\\"text-align:right;\\\" class=\\\"subhead\\\">3</td>\\n\\t\\t<td style=\\\"text-align:right;\\\" class=\\\"datael\\\">67757.79</td>\\n\\t\\t<td style=\\\"text-align:right;\\\" class=\\\"datael\\\">24770.90</td>\\n\\t\\t<td style=\\\"text-align:right;\\\" class=\\\"datael\\\">243</td>\\n\\t\\t<td style=\\\"text-align:right;\\\" class=\\\"datael\\\">83635.34</td>\\n\\t\\t<td style=\\\"text-align:right;\\\" class=\\\"datael\\\">21430.39</td>\\n\\t\\t<td style=\\\"text-align:right;\\\" class=\\\"datael\\\">58</td>\\n\\t</tr>\\n\\t<tr>\\n\\t\\t<td style=\\\"text-align:right;\\\" class=\\\"subhead\\\">4</td>\\n\\t\\t<td style=\\\"text-align:right;\\\" class=\\\"datael\\\">77941.22</td>\\n\\t\\t<td style=\\\"text-align:right;\\\" class=\\\"datael\\\">33314.07</td>\\n\\t\\t<td style=\\\"text-align:right;\\\" class=\\\"datael\\\">74</td>\\n\\t\\t<td style=\\\"text-align:right;\\\" class=\\\"datael\\\">95640.48</td>\\n\\t\\t<td style=\\\"text-align:right;\\\" class=\\\"datael\\\">28305.56</td>\\n\\t\\t<td style=\\\"text-align:right;\\\" class=\\\"datael\\\">21</td>\\n\\t</tr>\\n\\t<tr>\\n\\t\\t<td style=\\\"text-align:right;\\\" class=\\\"subhead\\\">5</td>\\n\\t\\t<td style=\\\"text-align:right;\\\" class=\\\"datael\\\">79487.50</td>\\n\\t\\t<td style=\\\"text-align:right;\\\" class=\\\"datael\\\">38361.27</td>\\n\\t\\t<td style=\\\"text-align:right;\\\" class=\\\"datael\\\">8</td>\\n\\t\\t<td style=\\\"text-align:right;\\\" class=\\\"datael\\\">97750.00</td>\\n\\t\\t<td style=\\\"text-align:right;\\\" class=\\\"datael\\\">25809.40</td>\\n\\t\\t<td style=\\\"text-align:right;\\\" class=\\\"datael\\\">2</td>\\n\\t</tr>\\n\\t<tr>\\n\\t\\t<td style=\\\"text-align:right;\\\" class=\\\"subhead\\\">6</td>\\n\\t\\t<td style=\\\"text-align:right;\\\" class=\\\"datael\\\">68450.00</td>\\n\\t\\t<td style=\\\"text-align:right;\\\" class=\\\"datael\\\">26092.24</td>\\n\\t\\t<td style=\\\"text-align:right;\\\" class=\\\"datael\\\">2</td>\\n\\t\\t<td style=\\\"text-align:right;\\\" class=\\\"datael\\\"></td>\\n\\t\\t<td style=\\\"text-align:right;\\\" class=\\\"datael\\\"></td>\\n\\t\\t<td style=\\\"text-align:right;\\\" class=\\\"datael\\\"></td>\\n\\t</tr>\\n</table>\\n\")"
       ]
      }
     ],
     "prompt_number": 3
    },
    {
     "cell_type": "markdown",
     "metadata": {},
     "source": [
      "## Example 2: The `mtcars` Dataset"
     ]
    },
    {
     "cell_type": "code",
     "collapsed": false,
     "input": [
      "cars = RDatasets.dataset(\"datasets\", \"mtcars\")\n",
      "p = summarize(\n",
      "    cars, \n",
      "    rowvars      = Symbol[], \n",
      "    colvars      = Symbol[:Cyl], \n",
      "    statnames    = String[\"mean(MPG)\", \"std(MPG)\", \"count\"], \n",
      "    stats        = [df -> mean(df[:MPG]), df->std(df[:MPG]), df->length(df[:MPG])], \n",
      "    varorders    = Dict{Symbol, Any}([:Cyl => [4,6,8]]), \n",
      "    stat_in_cols = false)\n",
      "\n",
      "tbl = totable(p)\n",
      "tb.HTML(tbl)"
     ],
     "language": "python",
     "metadata": {},
     "outputs": [
      {
       "html": [
        "<table>\n",
        "\t<tr>\n",
        "\t\t<td style=\"border:0;\" class=\"empty\"></td>\n",
        "\t\t<td colspan=\"3\" style=\"text-align:center;\" class=\"head\">Cyl</td>\n",
        "\t</tr>\n",
        "\t<tr>\n",
        "\t\t<td style=\"text-align:center;\" class=\"head\">stats</td>\n",
        "\t\t<td style=\"text-align:center;\" class=\"subhead\">4</td>\n",
        "\t\t<td style=\"text-align:center;\" class=\"subhead\">6</td>\n",
        "\t\t<td style=\"text-align:center;\" class=\"subhead\">8</td>\n",
        "\t</tr>\n",
        "\t<tr>\n",
        "\t\t<td style=\"text-align:right;\" class=\"subhead\">mean&#40;MPG&#41;</td>\n",
        "\t\t<td style=\"text-align:right;\" class=\"datael\">26.66</td>\n",
        "\t\t<td style=\"text-align:right;\" class=\"datael\">19.74</td>\n",
        "\t\t<td style=\"text-align:right;\" class=\"datael\">15.10</td>\n",
        "\t</tr>\n",
        "\t<tr>\n",
        "\t\t<td style=\"text-align:right;\" class=\"subhead\">std&#40;MPG&#41;</td>\n",
        "\t\t<td style=\"text-align:right;\" class=\"datael\">4.51</td>\n",
        "\t\t<td style=\"text-align:right;\" class=\"datael\">1.45</td>\n",
        "\t\t<td style=\"text-align:right;\" class=\"datael\">2.56</td>\n",
        "\t</tr>\n",
        "\t<tr>\n",
        "\t\t<td style=\"text-align:right;\" class=\"subhead\">count</td>\n",
        "\t\t<td style=\"text-align:right;\" class=\"datael\">11</td>\n",
        "\t\t<td style=\"text-align:right;\" class=\"datael\">7</td>\n",
        "\t\t<td style=\"text-align:right;\" class=\"datael\">14</td>\n",
        "\t</tr>\n",
        "</table>\n"
       ],
       "metadata": {},
       "output_type": "pyout",
       "prompt_number": 4,
       "text": [
        "HTML(\"<table>\\n\\t<tr>\\n\\t\\t<td style=\\\"border:0;\\\" class=\\\"empty\\\"></td>\\n\\t\\t<td colspan=\\\"3\\\" style=\\\"text-align:center;\\\" class=\\\"head\\\">Cyl</td>\\n\\t</tr>\\n\\t<tr>\\n\\t\\t<td style=\\\"text-align:center;\\\" class=\\\"head\\\">stats</td>\\n\\t\\t<td style=\\\"text-align:center;\\\" class=\\\"subhead\\\">4</td>\\n\\t\\t<td style=\\\"text-align:center;\\\" class=\\\"subhead\\\">6</td>\\n\\t\\t<td style=\\\"text-align:center;\\\" class=\\\"subhead\\\">8</td>\\n\\t</tr>\\n\\t<tr>\\n\\t\\t<td style=\\\"text-align:right;\\\" class=\\\"subhead\\\">mean&#40;MPG&#41;</td>\\n\\t\\t<td style=\\\"text-align:right;\\\" class=\\\"datael\\\">26.66</td>\\n\\t\\t<td style=\\\"text-align:right;\\\" class=\\\"datael\\\">19.74</td>\\n\\t\\t<td style=\\\"text-align:right;\\\" class=\\\"datael\\\">15.10</td>\\n\\t</tr>\\n\\t<tr>\\n\\t\\t<td style=\\\"text-align:right;\\\" class=\\\"subhead\\\">std&#40;MPG&#41;</td>\\n\\t\\t<td style=\\\"text-align:right;\\\" class=\\\"datael\\\">4.51</td>\\n\\t\\t<td style=\\\"text-align:right;\\\" class=\\\"datael\\\">1.45</td>\\n\\t\\t<td style=\\\"text-align:right;\\\" class=\\\"datael\\\">2.56</td>\\n\\t</tr>\\n\\t<tr>\\n\\t\\t<td style=\\\"text-align:right;\\\" class=\\\"subhead\\\">count</td>\\n\\t\\t<td style=\\\"text-align:right;\\\" class=\\\"datael\\\">11</td>\\n\\t\\t<td style=\\\"text-align:right;\\\" class=\\\"datael\\\">7</td>\\n\\t\\t<td style=\\\"text-align:right;\\\" class=\\\"datael\\\">14</td>\\n\\t</tr>\\n</table>\\n\")"
       ]
      }
     ],
     "prompt_number": 4
    }
   ],
   "metadata": {}
  }
 ]
}